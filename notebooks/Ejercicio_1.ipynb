{
 "cells": [
  {
   "cell_type": "code",
   "execution_count": 1,
   "metadata": {},
   "outputs": [],
   "source": [
    "import requests\n",
    "import json"
   ]
  },
  {
   "cell_type": "code",
   "execution_count": 2,
   "metadata": {},
   "outputs": [
    {
     "name": "stdout",
     "output_type": "stream",
     "text": [
      "custom_attributes guardado en 'custom_attributes.json'\n",
      "[{'es-CR': '{\"storage\":{\"value\":{\"code\":\"refrigerated\",\"name\":\"Refrigerado\"},\"name\":\"Almacenamiento\",\"type\":\"pim_catalog_simpleselect\"},\"country_of_origin\":{\"value\":{\"code\":\"united_states\",\"name\":\"Estados Unidos\"},\"name\":\"País de origen\",\"type\":\"pim_catalog_simpleselect\"},\"imported_national\":{\"value\":{\"code\":\"imported\",\"name\":\"Importado\"},\"name\":\"Importado o Nacional\",\"type\":\"pim_catalog_simpleselect\"},\"form\":{\"value\":{\"code\":\"block\",\"name\":\"Bloque\"},\"name\":\"Forma\",\"type\":\"pim_catalog_simpleselect\"},\"allergens\":{\"value\":[{\"code\":\"Milk\",\"name\":\"Leche\"}],\"name\":\"Alérgenos\",\"type\":\"pim_catalog_multiselect\"},\"sku\":{\"value\":\"29041\",\"name\":\"SKU (Item Number)\",\"type\":\"pim_catalog_identifier\"},\"show_online\":{\"value\":true,\"name\":\"Mostrar en línea\",\"type\":\"pim_catalog_boolean\"},\"add_to_cart\":{\"value\":true,\"name\":\"Agregar al carrito en búsqueda/categoría\",\"type\":\"pim_catalog_boolean\"},\"vegan\":{\"value\":false,\"name\":\"Vegano\",\"type\":\"pim_catalog_boolean\"},\"kosher\":{\"value\":false,\"name\":\"Kosher\",\"type\":\"pim_catalog_boolean\"},\"organic\":{\"value\":false,\"name\":\"Orgánico\",\"type\":\"pim_catalog_boolean\"},\"vegetarian\":{\"value\":true,\"name\":\"Vegetariano\",\"type\":\"pim_catalog_boolean\"},\"gluten_free\":{\"value\":true,\"name\":\"Sin gluten\",\"type\":\"pim_catalog_boolean\"},\"lactose_free\":{\"value\":false,\"name\":\"Libre de lactosa\",\"type\":\"pim_catalog_boolean\"},\"members_selection\":{\"value\":true,\"name\":\"Member\\\\u0027s Selection\",\"type\":\"pim_catalog_boolean\"},\"artificial_coloring\":{\"value\":false,\"name\":\"Coloración artificial\",\"type\":\"pim_catalog_boolean\"},\"Ingredients_text_area\":{\"value\":\"Leche Cultivada no Pasteurizada, Sal y Enzimas. \",\"name\":\"Ingredientes\",\"type\":\"pim_catalog_textarea\"},\"net_weight\":{\"value\":\"452.0000\",\"name\":\"Peso neto\",\"type\":\"pim_catalog_metric\",\"symbol\":\"g\",\"unitLabel\":\"\"},\"unit_size\":{\"value\":\"452.0000\",\"name\":\"Tamaño de la unidad (cada uno)\",\"type\":\"pim_catalog_metric\",\"symbol\":\"g\",\"unitLabel\":\"\"},\"package_quantity\":{\"value\":1.0,\"name\":\"Cantidad de paquetes (recuentos)\",\"type\":\"pim_catalog_number\"}}', 'en-CR': '{\"storage\":{\"value\":{\"code\":\"refrigerated\",\"name\":\"Refrigerated\"},\"name\":\"Storage\",\"type\":\"pim_catalog_simpleselect\"},\"country_of_origin\":{\"value\":{\"code\":\"united_states\",\"name\":\"United States\"},\"name\":\"Country of Origin\",\"type\":\"pim_catalog_simpleselect\"},\"imported_national\":{\"value\":{\"code\":\"imported\",\"name\":\"Imported\"},\"name\":\"Imported / National\",\"type\":\"pim_catalog_simpleselect\"},\"form\":{\"value\":{\"code\":\"block\",\"name\":\"Block\"},\"name\":\"Form\",\"type\":\"pim_catalog_simpleselect\"},\"allergens\":{\"value\":[{\"code\":\"Milk\",\"name\":\"Milk\"}],\"name\":\"Allergens\",\"type\":\"pim_catalog_multiselect\"},\"sku\":{\"value\":\"29041\",\"name\":\"SKU (Item Number)\",\"type\":\"pim_catalog_identifier\"},\"show_online\":{\"value\":true,\"name\":\"Show Online\",\"type\":\"pim_catalog_boolean\"},\"add_to_cart\":{\"value\":true,\"name\":\"Add To Cart at Search/category\",\"type\":\"pim_catalog_boolean\"},\"vegan\":{\"value\":false,\"name\":\"Vegan\",\"type\":\"pim_catalog_boolean\"},\"kosher\":{\"value\":false,\"name\":\"Kosher\",\"type\":\"pim_catalog_boolean\"},\"organic\":{\"value\":false,\"name\":\"Organic\",\"type\":\"pim_catalog_boolean\"},\"vegetarian\":{\"value\":true,\"name\":\"Vegetarian\",\"type\":\"pim_catalog_boolean\"},\"gluten_free\":{\"value\":true,\"name\":\"Gluten Free\",\"type\":\"pim_catalog_boolean\"},\"lactose_free\":{\"value\":false,\"name\":\"Lactose Free\",\"type\":\"pim_catalog_boolean\"},\"members_selection\":{\"value\":true,\"name\":\"Member\\\\u0027s Selection\",\"type\":\"pim_catalog_boolean\"},\"artificial_coloring\":{\"value\":false,\"name\":\"Artificial Coloring\",\"type\":\"pim_catalog_boolean\"},\"Ingredients_text_area\":{\"value\":\"Unpasteurised Cultured Milk, Salt, Enzymes.\",\"name\":\"Ingredients\",\"type\":\"pim_catalog_textarea\"},\"net_weight\":{\"value\":\"452.0000\",\"name\":\"Net weight\",\"type\":\"pim_catalog_metric\",\"symbol\":\"g\",\"unitLabel\":\"Gram\"},\"unit_size\":{\"value\":\"452.0000\",\"name\":\"Unit Size (Each)\",\"type\":\"pim_catalog_metric\",\"symbol\":\"g\",\"unitLabel\":\"Gram\"},\"package_quantity\":{\"value\":1.0,\"name\":\"Package Quantity (Counts)\",\"type\":\"pim_catalog_number\"}}'}]\n"
     ]
    }
   ],
   "source": [
    "\n",
    "def obtener_custom_attributes(url):\n",
    "    try:\n",
    "        # Realiza la solicitud GET\n",
    "        response = requests.get(url)\n",
    "        response.raise_for_status()\n",
    "        data = response.json()\n",
    "\n",
    "        # Lista para almacenar los valores de \"custom_attributes\"\n",
    "        custom_attributes_list = []\n",
    "\n",
    "        # Recorre las variantes y busca en attributesRaw\n",
    "        for variant in data.get(\"allVariants\", []):\n",
    "            attributes = variant.get(\"attributesRaw\", [])\n",
    "            \n",
    "            for attribute in attributes:\n",
    "                if attribute.get(\"name\") == \"custom_attributes\":\n",
    "                    custom_attributes_list.append(attribute.get(\"value\", {}))  # Obtiene el valor\n",
    "\n",
    "        # Guardar en un archivo JSON si hay resultados\n",
    "        if custom_attributes_list:\n",
    "            with open('custom_attributes.json', 'w', encoding='utf-8') as f:\n",
    "                json.dump(custom_attributes_list, f, ensure_ascii=False, indent=4)\n",
    "            print(\"custom_attributes guardado en 'custom_attributes.json'\")\n",
    "        else:\n",
    "            print(\"No se encontró 'custom_attributes' en los datos.\")\n",
    "\n",
    "        return custom_attributes_list\n",
    "    \n",
    "    except requests.exceptions.RequestException as e:\n",
    "        print(f\"Error en la solicitud: {e}\")\n",
    "    except json.JSONDecodeError as e:\n",
    "        print(f\"Error al decodificar JSON: {e}\")\n",
    "\n",
    "# URL de ejemplo\n",
    "url = 'https://storage.googleapis.com/resources-prod-shelftia/scrapers-prueba/product.json'\n",
    "resultado = obtener_custom_attributes(url)\n",
    "print(resultado)\n"
   ]
  },
  {
   "cell_type": "code",
   "execution_count": 3,
   "metadata": {},
   "outputs": [],
   "source": [
    "import json\n",
    "\n",
    "def procesar_custom_attributes(lista_custom_attributes):\n",
    "    resultado_final = []\n",
    "\n",
    "    for item in lista_custom_attributes:\n",
    "        # Asegurarse de que el JSON está en formato correcto\n",
    "        if isinstance(item, dict) and \"es-CR\" in item:\n",
    "            try:\n",
    "                nested_json = json.loads(item[\"es-CR\"])  # Convertir de string JSON a dict\n",
    "            except json.JSONDecodeError:\n",
    "                continue  # Si falla la conversión, omitir el elemento\n",
    "\n",
    "            # Extraer datos requeridos\n",
    "            resultado = {\n",
    "                \"allergens\": [allergen[\"name\"] for allergen in nested_json.get(\"allergens\", {}).get(\"value\", [])],\n",
    "                \"sku\": nested_json.get(\"sku\", {}).get(\"value\", \"\"),\n",
    "                \"vegan\": nested_json.get(\"vegan\", {}).get(\"value\", False),\n",
    "                \"kosher\": nested_json.get(\"kosher\", {}).get(\"value\", False),\n",
    "                \"organic\": nested_json.get(\"organic\", {}).get(\"value\", False),\n",
    "                \"vegetarian\": nested_json.get(\"vegetarian\", {}).get(\"value\", False),\n",
    "                \"gluten_free\": nested_json.get(\"gluten_free\", {}).get(\"value\", False),\n",
    "                \"lactose_free\": nested_json.get(\"lactose_free\", {}).get(\"value\", False),\n",
    "                \"package_quantity\": nested_json.get(\"package_quantity\", {}).get(\"value\", 0),\n",
    "                \"unit_size\": nested_json.get(\"unit_size\", {}).get(\"value\", \"\"),\n",
    "                \"net_weight\": nested_json.get(\"net_weight\", {}).get(\"value\", \"\")\n",
    "            }\n",
    "\n",
    "            resultado_final.append(resultado)  # Agregar a la lista final\n",
    "\n",
    "    return resultado_final\n",
    "\n",
    "\n"
   ]
  },
  {
   "cell_type": "code",
   "execution_count": 4,
   "metadata": {},
   "outputs": [
    {
     "name": "stdout",
     "output_type": "stream",
     "text": [
      "[\n",
      "    {\n",
      "        \"allergens\": [\n",
      "            \"Leche\"\n",
      "        ],\n",
      "        \"sku\": \"29041\",\n",
      "        \"vegan\": false,\n",
      "        \"kosher\": false,\n",
      "        \"organic\": false,\n",
      "        \"vegetarian\": true,\n",
      "        \"gluten_free\": true,\n",
      "        \"lactose_free\": false,\n",
      "        \"package_quantity\": 1.0,\n",
      "        \"unit_size\": \"452.0000\",\n",
      "        \"net_weight\": \"452.0000\"\n",
      "    }\n",
      "]\n"
     ]
    }
   ],
   "source": [
    "# Llamar a la función con la lista obtenida\n",
    "resultado_limpio = procesar_custom_attributes(resultado)\n",
    "\n",
    "# Imprimir el JSON final\n",
    "print(json.dumps(resultado_limpio, indent=4, ensure_ascii=False))"
   ]
  },
  {
   "cell_type": "code",
   "execution_count": 5,
   "metadata": {},
   "outputs": [],
   "source": [
    "import csv\n",
    "import json\n",
    "\n",
    "\n",
    "# Función para guardar en CSV\n",
    "def guardar_en_csv(lista, nombre_archivo):\n",
    "    if lista:\n",
    "        # Abrimos el archivo CSV en modo escritura\n",
    "        with open(nombre_archivo, mode='w', newline='', encoding='utf-8') as archivo_csv:\n",
    "            # Determinar las claves del primer elemento de la lista (para los encabezados)\n",
    "            fieldnames = lista[0].keys()\n",
    "            \n",
    "            # Crear un objeto DictWriter con los encabezados\n",
    "            writer = csv.DictWriter(archivo_csv, fieldnames=fieldnames)\n",
    "            \n",
    "            # Escribir los encabezados\n",
    "            writer.writeheader()\n",
    "            \n",
    "            # Escribir las filas de datos\n",
    "            writer.writerows(lista)\n",
    "            \n",
    "        print(f\"Datos guardados correctamente en {nombre_archivo}\")\n",
    "    else:\n",
    "        print(\"La lista está vacía, no se puede guardar el archivo CSV.\")\n",
    "\n",
    "\n"
   ]
  },
  {
   "cell_type": "code",
   "execution_count": 6,
   "metadata": {},
   "outputs": [
    {
     "name": "stdout",
     "output_type": "stream",
     "text": [
      "Datos guardados correctamente en output-product.csv\n"
     ]
    }
   ],
   "source": [
    "# Guardar los datos de 'allVariants' en un archivo CSV\n",
    "guardar_en_csv(resultado_limpio, \"output-product.csv\")"
   ]
  }
 ],
 "metadata": {
  "kernelspec": {
   "display_name": ".venv",
   "language": "python",
   "name": "python3"
  },
  "language_info": {
   "codemirror_mode": {
    "name": "ipython",
    "version": 3
   },
   "file_extension": ".py",
   "mimetype": "text/x-python",
   "name": "python",
   "nbconvert_exporter": "python",
   "pygments_lexer": "ipython3",
   "version": "3.10.0"
  }
 },
 "nbformat": 4,
 "nbformat_minor": 2
}
