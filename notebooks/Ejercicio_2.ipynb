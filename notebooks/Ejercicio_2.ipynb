{
 "cells": [
  {
   "cell_type": "code",
   "execution_count": 40,
   "metadata": {},
   "outputs": [],
   "source": [
    "from selenium import webdriver\n",
    "from selenium.webdriver.common.by import By\n",
    "from selenium.webdriver.chrome.service import Service\n",
    "from selenium.webdriver.common.keys import Keys\n",
    "from selenium.webdriver.chrome.options import Options\n",
    "#from webdriver_manager.chrome import ChromeDriverManager\n",
    "import time\n",
    "import json"
   ]
  },
  {
   "cell_type": "code",
   "execution_count": 46,
   "metadata": {},
   "outputs": [],
   "source": [
    "driver = webdriver.Chrome()\n",
    "#driver.get(\"https://www.tiendasjumbo.co/supermercado/despensa/enlatados-y-conservas\")\n",
    "driver.get(\"https://www.jumbocolombia.com/supermercado/despensa/aceite\")\n",
    "time.sleep(2)"
   ]
  },
  {
   "cell_type": "code",
   "execution_count": 47,
   "metadata": {},
   "outputs": [
    {
     "data": {
      "text/plain": [
       "[<selenium.webdriver.remote.webelement.WebElement (session=\"41809613725656388778d1e2cae455da\", element=\"f.7C549B2ECF2F4F976A4F04C984514406.d.B5AF06188E08C300BD70B14AE7725538.e.141\")>,\n",
       " <selenium.webdriver.remote.webelement.WebElement (session=\"41809613725656388778d1e2cae455da\", element=\"f.7C549B2ECF2F4F976A4F04C984514406.d.B5AF06188E08C300BD70B14AE7725538.e.142\")>,\n",
       " <selenium.webdriver.remote.webelement.WebElement (session=\"41809613725656388778d1e2cae455da\", element=\"f.7C549B2ECF2F4F976A4F04C984514406.d.B5AF06188E08C300BD70B14AE7725538.e.143\")>,\n",
       " <selenium.webdriver.remote.webelement.WebElement (session=\"41809613725656388778d1e2cae455da\", element=\"f.7C549B2ECF2F4F976A4F04C984514406.d.B5AF06188E08C300BD70B14AE7725538.e.144\")>,\n",
       " <selenium.webdriver.remote.webelement.WebElement (session=\"41809613725656388778d1e2cae455da\", element=\"f.7C549B2ECF2F4F976A4F04C984514406.d.B5AF06188E08C300BD70B14AE7725538.e.145\")>,\n",
       " <selenium.webdriver.remote.webelement.WebElement (session=\"41809613725656388778d1e2cae455da\", element=\"f.7C549B2ECF2F4F976A4F04C984514406.d.B5AF06188E08C300BD70B14AE7725538.e.146\")>,\n",
       " <selenium.webdriver.remote.webelement.WebElement (session=\"41809613725656388778d1e2cae455da\", element=\"f.7C549B2ECF2F4F976A4F04C984514406.d.B5AF06188E08C300BD70B14AE7725538.e.147\")>,\n",
       " <selenium.webdriver.remote.webelement.WebElement (session=\"41809613725656388778d1e2cae455da\", element=\"f.7C549B2ECF2F4F976A4F04C984514406.d.B5AF06188E08C300BD70B14AE7725538.e.148\")>,\n",
       " <selenium.webdriver.remote.webelement.WebElement (session=\"41809613725656388778d1e2cae455da\", element=\"f.7C549B2ECF2F4F976A4F04C984514406.d.B5AF06188E08C300BD70B14AE7725538.e.149\")>,\n",
       " <selenium.webdriver.remote.webelement.WebElement (session=\"41809613725656388778d1e2cae455da\", element=\"f.7C549B2ECF2F4F976A4F04C984514406.d.B5AF06188E08C300BD70B14AE7725538.e.150\")>,\n",
       " <selenium.webdriver.remote.webelement.WebElement (session=\"41809613725656388778d1e2cae455da\", element=\"f.7C549B2ECF2F4F976A4F04C984514406.d.B5AF06188E08C300BD70B14AE7725538.e.151\")>,\n",
       " <selenium.webdriver.remote.webelement.WebElement (session=\"41809613725656388778d1e2cae455da\", element=\"f.7C549B2ECF2F4F976A4F04C984514406.d.B5AF06188E08C300BD70B14AE7725538.e.152\")>,\n",
       " <selenium.webdriver.remote.webelement.WebElement (session=\"41809613725656388778d1e2cae455da\", element=\"f.7C549B2ECF2F4F976A4F04C984514406.d.B5AF06188E08C300BD70B14AE7725538.e.153\")>,\n",
       " <selenium.webdriver.remote.webelement.WebElement (session=\"41809613725656388778d1e2cae455da\", element=\"f.7C549B2ECF2F4F976A4F04C984514406.d.B5AF06188E08C300BD70B14AE7725538.e.154\")>,\n",
       " <selenium.webdriver.remote.webelement.WebElement (session=\"41809613725656388778d1e2cae455da\", element=\"f.7C549B2ECF2F4F976A4F04C984514406.d.B5AF06188E08C300BD70B14AE7725538.e.155\")>,\n",
       " <selenium.webdriver.remote.webelement.WebElement (session=\"41809613725656388778d1e2cae455da\", element=\"f.7C549B2ECF2F4F976A4F04C984514406.d.B5AF06188E08C300BD70B14AE7725538.e.156\")>]"
      ]
     },
     "execution_count": 47,
     "metadata": {},
     "output_type": "execute_result"
    }
   ],
   "source": [
    "products=driver.find_elements(By.CSS_SELECTOR,'div[class=\"tiendasjumboqaio-cmedia-integration-cencosud-0-x-galleryItem tiendasjumboqaio-cmedia-integration-cencosud-0-x-galleryItem--gallery-css tiendasjumboqaio-cmedia-integration-cencosud-0-x-galleryItem--normal tiendasjumboqaio-cmedia-integration-cencosud-0-x-galleryItem--gallery-css--normal tiendasjumboqaio-cmedia-integration-cencosud-0-x-galleryItem--grid tiendasjumboqaio-cmedia-integration-cencosud-0-x-galleryItem--gallery-css--grid pa4\"]')\n",
    "products"
   ]
  },
  {
   "cell_type": "code",
   "execution_count": 48,
   "metadata": {},
   "outputs": [
    {
     "data": {
      "text/plain": [
       "[<selenium.webdriver.remote.webelement.WebElement (session=\"41809613725656388778d1e2cae455da\", element=\"f.7C549B2ECF2F4F976A4F04C984514406.d.B5AF06188E08C300BD70B14AE7725538.e.141\")>,\n",
       " <selenium.webdriver.remote.webelement.WebElement (session=\"41809613725656388778d1e2cae455da\", element=\"f.7C549B2ECF2F4F976A4F04C984514406.d.B5AF06188E08C300BD70B14AE7725538.e.142\")>,\n",
       " <selenium.webdriver.remote.webelement.WebElement (session=\"41809613725656388778d1e2cae455da\", element=\"f.7C549B2ECF2F4F976A4F04C984514406.d.B5AF06188E08C300BD70B14AE7725538.e.143\")>,\n",
       " <selenium.webdriver.remote.webelement.WebElement (session=\"41809613725656388778d1e2cae455da\", element=\"f.7C549B2ECF2F4F976A4F04C984514406.d.B5AF06188E08C300BD70B14AE7725538.e.144\")>,\n",
       " <selenium.webdriver.remote.webelement.WebElement (session=\"41809613725656388778d1e2cae455da\", element=\"f.7C549B2ECF2F4F976A4F04C984514406.d.B5AF06188E08C300BD70B14AE7725538.e.145\")>,\n",
       " <selenium.webdriver.remote.webelement.WebElement (session=\"41809613725656388778d1e2cae455da\", element=\"f.7C549B2ECF2F4F976A4F04C984514406.d.B5AF06188E08C300BD70B14AE7725538.e.146\")>,\n",
       " <selenium.webdriver.remote.webelement.WebElement (session=\"41809613725656388778d1e2cae455da\", element=\"f.7C549B2ECF2F4F976A4F04C984514406.d.B5AF06188E08C300BD70B14AE7725538.e.147\")>,\n",
       " <selenium.webdriver.remote.webelement.WebElement (session=\"41809613725656388778d1e2cae455da\", element=\"f.7C549B2ECF2F4F976A4F04C984514406.d.B5AF06188E08C300BD70B14AE7725538.e.148\")>,\n",
       " <selenium.webdriver.remote.webelement.WebElement (session=\"41809613725656388778d1e2cae455da\", element=\"f.7C549B2ECF2F4F976A4F04C984514406.d.B5AF06188E08C300BD70B14AE7725538.e.149\")>,\n",
       " <selenium.webdriver.remote.webelement.WebElement (session=\"41809613725656388778d1e2cae455da\", element=\"f.7C549B2ECF2F4F976A4F04C984514406.d.B5AF06188E08C300BD70B14AE7725538.e.150\")>,\n",
       " <selenium.webdriver.remote.webelement.WebElement (session=\"41809613725656388778d1e2cae455da\", element=\"f.7C549B2ECF2F4F976A4F04C984514406.d.B5AF06188E08C300BD70B14AE7725538.e.151\")>,\n",
       " <selenium.webdriver.remote.webelement.WebElement (session=\"41809613725656388778d1e2cae455da\", element=\"f.7C549B2ECF2F4F976A4F04C984514406.d.B5AF06188E08C300BD70B14AE7725538.e.152\")>,\n",
       " <selenium.webdriver.remote.webelement.WebElement (session=\"41809613725656388778d1e2cae455da\", element=\"f.7C549B2ECF2F4F976A4F04C984514406.d.B5AF06188E08C300BD70B14AE7725538.e.153\")>,\n",
       " <selenium.webdriver.remote.webelement.WebElement (session=\"41809613725656388778d1e2cae455da\", element=\"f.7C549B2ECF2F4F976A4F04C984514406.d.B5AF06188E08C300BD70B14AE7725538.e.154\")>,\n",
       " <selenium.webdriver.remote.webelement.WebElement (session=\"41809613725656388778d1e2cae455da\", element=\"f.7C549B2ECF2F4F976A4F04C984514406.d.B5AF06188E08C300BD70B14AE7725538.e.155\")>,\n",
       " <selenium.webdriver.remote.webelement.WebElement (session=\"41809613725656388778d1e2cae455da\", element=\"f.7C549B2ECF2F4F976A4F04C984514406.d.B5AF06188E08C300BD70B14AE7725538.e.156\")>]"
      ]
     },
     "execution_count": 48,
     "metadata": {},
     "output_type": "execute_result"
    }
   ],
   "source": [
    "products"
   ]
  },
  {
   "cell_type": "code",
   "execution_count": null,
   "metadata": {},
   "outputs": [],
   "source": [
    "#elemento_nombres = driver.find_elements(By.CLASS_NAME, 'vtex-product-summary-2-x-productBrand.vtex-product-summary-2-x-brandName.t-body')\n",
    "#elemento_precios=driver.find_elements(By.CLASS_NAME,'flex mt0 mb4 pt0 pb0    justify-start vtex-flex-layout-0-x-flexRowContent vtex-flex-layout-0-x-flexRowContent--selling-price items-stretch w-100')\n",
    "#for producto in elemento_nombres:\n",
    "#    nombre_producto = producto.text\n",
    "#    print(nombre_producto)\n",
    "#                                                          #vtex-product-summary-2-x-productBrand vtex-product-summary-2-x-brandName t-body\n",
    "                                                          #vtex-product-summary-2-x-productBrand.vtex-product-summary-2-x-brandName.t-body\n",
    "productos = []\n",
    "for item in products:\n",
    "    product = {}\n",
    "    try:\n",
    "        product['name'] = item.find_element(By.CLASS_NAME, 'vtex-product-summary-2-x-productBrand.vtex-product-summary-2-x-brandName.t-body').text\n",
    "        product['price']=item.find_element(By.CLASS_NAME,'tiendasjumboqaio-jumbo-minicart-2-x-price').text\n",
    "        #print(name.text,price.text)\n",
    "        product['promo_price'] = item.find_element(By.CSS_SELECTOR, 'div[class=\"tiendasjumboqaio-jumbo-minicart-2-x-price tiendasjumboqaio-jumbo-minicart-2-x-price--product-prime\"').text\n",
    "        #print(promo_price.text)\n",
    "    except Exception as e:\n",
    "        continue\n",
    "        print(\"elemento no encontrado\")\n",
    "    productos.append(product)\n",
    "    \n"
   ]
  },
  {
   "cell_type": "code",
   "execution_count": 50,
   "metadata": {},
   "outputs": [
    {
     "data": {
      "text/plain": [
       "[{'name': 'Aceite Ybarra oliva extra virgen x3L ',\n",
       "  'price': '$ 195.490',\n",
       "  'promo_price': '$ 185.715'},\n",
       " {'name': 'Aceite Ybarra oliva extra virgen x1L ',\n",
       "  'price': '$ 77.290',\n",
       "  'promo_price': '$ 73.425'}]"
      ]
     },
     "execution_count": 50,
     "metadata": {},
     "output_type": "execute_result"
    }
   ],
   "source": [
    "productos"
   ]
  },
  {
   "cell_type": "code",
   "execution_count": 51,
   "metadata": {},
   "outputs": [],
   "source": [
    "data = {\n",
    "    \"url\": \"https://www.tiendasjumbo.co/supermercado/despensa/enlatados-y-conservas\",\n",
    "    \"products\": productos\n",
    "}\n",
    "\n",
    "# Guarda el JSON en un archivo\n",
    "with open('products.json', 'w', encoding='utf-8') as f:\n",
    "    json.dump(data, f, ensure_ascii=False, indent=4)\n",
    "    \n",
    "driver.quit()\n"
   ]
  }
 ],
 "metadata": {
  "kernelspec": {
   "display_name": ".venv",
   "language": "python",
   "name": "python3"
  },
  "language_info": {
   "codemirror_mode": {
    "name": "ipython",
    "version": 3
   },
   "file_extension": ".py",
   "mimetype": "text/x-python",
   "name": "python",
   "nbconvert_exporter": "python",
   "pygments_lexer": "ipython3",
   "version": "3.10.0"
  }
 },
 "nbformat": 4,
 "nbformat_minor": 2
}
